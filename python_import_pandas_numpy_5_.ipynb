{
  "nbformat": 4,
  "nbformat_minor": 0,
  "metadata": {
    "colab": {
      "private_outputs": true,
      "provenance": [],
      "collapsed_sections": [],
      "authorship_tag": "ABX9TyMu3s5clPxx4OCmytoupPpg"
    },
    "kernelspec": {
      "name": "python3",
      "display_name": "Python 3"
    },
    "language_info": {
      "name": "python"
    }
  },
  "cells": [
    {
      "cell_type": "code",
      "source": [
        "#201814083 최명환 "
      ],
      "metadata": {
        "id": "Zy3jyktn-GYn"
      },
      "execution_count": null,
      "outputs": []
    },
    {
      "cell_type": "code",
      "execution_count": null,
      "metadata": {
        "id": "rCM8n-YNyuL-"
      },
      "outputs": [],
      "source": [
        "import pandas as pd"
      ]
    },
    {
      "cell_type": "code",
      "source": [
        "midwest = pd.read_csv('/midwest.csv')"
      ],
      "metadata": {
        "id": "A91bHwj_2rrb"
      },
      "execution_count": null,
      "outputs": []
    },
    {
      "cell_type": "code",
      "source": [
        "#num1_midwest 데이터 특징 보기."
      ],
      "metadata": {
        "id": "FqbWvs8i9-vI"
      },
      "execution_count": null,
      "outputs": []
    },
    {
      "cell_type": "code",
      "source": [
        "midwest.head()\n",
        "midwest.tail()\n",
        "midwest.shape  #행과 열 갯수 출력\n",
        "midwest.info() # 변수 속성 출력문\n",
        "midwest.describe() #통계량 출력"
      ],
      "metadata": {
        "id": "NhMukJFt7IcS"
      },
      "execution_count": null,
      "outputs": []
    },
    {
      "cell_type": "code",
      "source": [
        "#num2_전체인구를 total로 수정 , 아시아인구 = popasian 을 asian으로 수정 "
      ],
      "metadata": {
        "id": "pzNF-_y8-LB6"
      },
      "execution_count": null,
      "outputs": []
    },
    {
      "cell_type": "code",
      "source": [
        "midwest = midwest.rename(columns = {'poptotal' : 'total'})"
      ],
      "metadata": {
        "id": "4GoGdS683jiJ"
      },
      "execution_count": null,
      "outputs": []
    },
    {
      "cell_type": "code",
      "source": [
        "midwest = midwest.rename(columns = {'popasian' : 'asian'})"
      ],
      "metadata": {
        "id": "Xnjy3pAU3lrg"
      },
      "execution_count": null,
      "outputs": []
    },
    {
      "cell_type": "code",
      "source": [
        "#num3_total,asian 변수를 이용해 전체인구 대비 아시아 인구 백분율 파생변수 추가 후 히스토그램을 만들어 분포를 살펴보기."
      ],
      "metadata": {
        "id": "0MNIZTKB-c_v"
      },
      "execution_count": null,
      "outputs": []
    },
    {
      "cell_type": "code",
      "source": [
        "midwest['ratio'] = midwest['asian']/midwest['total']*100"
      ],
      "metadata": {
        "id": "VDcZxpWM8gkK"
      },
      "execution_count": null,
      "outputs": []
    },
    {
      "cell_type": "code",
      "source": [
        "midwest['ratio'].plot.hist()"
      ],
      "metadata": {
        "id": "2Mrw4TZQ85YR"
      },
      "execution_count": null,
      "outputs": []
    },
    {
      "cell_type": "code",
      "source": [
        "#num4_아시아 인구 백분율 전체 평균을 구하고, 평균을 초과하면 large로 외에는 small을 부여한 파생변수 출력하기."
      ],
      "metadata": {
        "id": "BaZ9ClzA-v-Z"
      },
      "execution_count": null,
      "outputs": []
    },
    {
      "cell_type": "code",
      "source": [
        "midwest['ratio'].mean() "
      ],
      "metadata": {
        "id": "HVXemP_W9D7X"
      },
      "execution_count": null,
      "outputs": []
    },
    {
      "cell_type": "code",
      "source": [
        "import numpy as np"
      ],
      "metadata": {
        "id": "OYU3N9n-9LWY"
      },
      "execution_count": null,
      "outputs": []
    },
    {
      "cell_type": "code",
      "source": [
        "midwest['group'] = np.where(midwest['ratio']>0.4872 , 'large' ,'small')"
      ],
      "metadata": {
        "id": "8JRbDoaV9RbZ"
      },
      "execution_count": null,
      "outputs": []
    },
    {
      "cell_type": "code",
      "source": [
        "#num5_large와 small 에 해당하는 지역이 얼마나 많은지 빈도표와 빈도 막대 그래프 만들어 보기."
      ],
      "metadata": {
        "id": "qqWzV7W8_MVA"
      },
      "execution_count": null,
      "outputs": []
    },
    {
      "cell_type": "code",
      "source": [
        "count_group = midwest['group'].value_counts()\n",
        "count_group"
      ],
      "metadata": {
        "id": "I-oayEbc9hlI"
      },
      "execution_count": null,
      "outputs": []
    },
    {
      "cell_type": "code",
      "source": [
        "count_group.plot.bar(rot = 0)"
      ],
      "metadata": {
        "id": "PhuKPo-u91Zq"
      },
      "execution_count": null,
      "outputs": []
    }
  ]
}